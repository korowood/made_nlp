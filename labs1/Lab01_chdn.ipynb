{
 "cells": [
  {
   "cell_type": "markdown",
   "metadata": {
    "id": "2OeQU-A8R1Ts"
   },
   "source": [
    "## Lab 01. Poetry generation\n",
    "\n",
    "Let's try to generate some poetry using RNNs. \n",
    "\n",
    "You have several choices here: \n",
    "\n",
    "* The Shakespeare sonnets, file `sonnets.txt` available in the notebook directory.\n",
    "\n",
    "* Роман в стихах \"Евгений Онегин\" Александра Сергеевича Пушкина. В предобработанном виде доступен по [ссылке](https://github.com/attatrol/data_sources/blob/master/onegin.txt).\n",
    "\n",
    "* Some other text source, if it will be approved by the course staff.\n",
    "\n",
    "Text generation can be designed in several steps:\n",
    "    \n",
    "1. Data loading.\n",
    "2. Dictionary generation.\n",
    "3. Data preprocessing.\n",
    "4. Model (neural network) training.\n",
    "5. Text generation (model evaluation).\n"
   ]
  },
  {
   "cell_type": "code",
   "execution_count": 1,
   "metadata": {
    "id": "sYcUuAiMR1Tx"
   },
   "outputs": [],
   "source": [
    "import string\n",
    "import os\n",
    "\n",
    "import numpy as np\n",
    "import torch\n",
    "\n",
    "from torch import nn, optim\n",
    "from torch.nn import functional as F\n",
    "from torch.utils.data import Dataset, DataLoader\n",
    "from tqdm.notebook import tqdm\n",
    "import matplotlib.pyplot as plt"
   ]
  },
  {
   "cell_type": "markdown",
   "metadata": {
    "id": "WDvhWMWZR1Tx"
   },
   "source": [
    "### Data loading: Shakespeare"
   ]
  },
  {
   "cell_type": "markdown",
   "metadata": {
    "id": "nn2mX4LVR1Tx"
   },
   "source": [
    "Shakespeare sonnets are awailable at this [link](http://www.gutenberg.org/ebooks/1041?msg=welcome_stranger). In addition, they are stored in the same directory as this notebook (`sonnetes.txt`). Simple preprocessing is already done for you in the next cell: all technical info is dropped."
   ]
  },
  {
   "cell_type": "code",
   "execution_count": 2,
   "metadata": {
    "id": "7GvVxQ9NR1Ty"
   },
   "outputs": [],
   "source": [
    "# if not os.path.exists('sonnets.txt'):\n",
    "#     !wget https://raw.githubusercontent.com/girafe-ai/ml-mipt/master/homeworks_basic/Lab2_DL/sonnets.txt\n",
    "\n",
    "# with open('sonnets.txt', 'r') as iofile:\n",
    "#     text = iofile.readlines()\n",
    "    \n",
    "# TEXT_START = 45\n",
    "# TEXT_END = -368\n",
    "# text = text[TEXT_START : TEXT_END]\n",
    "# assert len(text) == 2616"
   ]
  },
  {
   "cell_type": "markdown",
   "metadata": {
    "id": "eZtdrIBQR1Ty"
   },
   "source": [
    "In opposite to the in-class practice, this time we want to predict complex text. Let's reduce the complexity of the task and lowercase all the symbols.\n",
    "\n",
    "Now variable `text` is a list of strings. Join all the strings into one and lowercase it."
   ]
  },
  {
   "cell_type": "code",
   "execution_count": 3,
   "metadata": {
    "id": "VgqVko9IR1Ty"
   },
   "outputs": [
    {
     "name": "stdout",
     "output_type": "stream",
     "text": [
      "OK!\n"
     ]
    }
   ],
   "source": [
    "# Join all the strings into one and lowercase it\n",
    "# Put result into variable text.\n",
    "\n",
    "# text = ''.join(text).lower()\n",
    "\n",
    "# assert len(text) == 100225, 'Are you sure you have concatenated all the strings?'\n",
    "# assert not any([x in set(text) for x in string.ascii_uppercase]), 'Uppercase letters are present'\n",
    "# print('OK!')"
   ]
  },
  {
   "cell_type": "markdown",
   "metadata": {
    "id": "MENYh60-R1Ty"
   },
   "source": [
    "### Data loading: \"Евгений Онегин\"\n"
   ]
  },
  {
   "cell_type": "code",
   "execution_count": null,
   "metadata": {
    "id": "JiiRtLUMR1Tz",
    "outputId": "40940f2c-0117-404d-dd05-3acc60d07993"
   },
   "outputs": [
    {
     "name": "stdout",
     "output_type": "stream",
     "text": [
      "Warning: Failed to set locale category LC_NUMERIC to en_RU.\n",
      "Warning: Failed to set locale category LC_TIME to en_RU.\n",
      "Warning: Failed to set locale category LC_COLLATE to en_RU.\n",
      "Warning: Failed to set locale category LC_MONETARY to en_RU.\n",
      "Warning: Failed to set locale category LC_MESSAGES to en_RU.\n",
      "--2020-05-10 19:02:32--  https://raw.githubusercontent.com/attatrol/data_sources/master/onegin.txt\n",
      "Resolving raw.githubusercontent.com (raw.githubusercontent.com)... 151.101.244.133\n",
      "Connecting to raw.githubusercontent.com (raw.githubusercontent.com)|151.101.244.133|:443... connected.\n",
      "HTTP request sent, awaiting response... 200 OK\n",
      "Length: 262521 (256K) [text/plain]\n",
      "Saving to: ‘onegin.txt’\n",
      "\n",
      "onegin.txt          100%[===================>] 256.37K  --.-KB/s    in 0.1s    \n",
      "\n",
      "2020-05-10 19:02:33 (2.25 MB/s) - ‘onegin.txt’ saved [262521/262521]\n",
      "\n"
     ]
    }
   ],
   "source": [
    "!wget https://raw.githubusercontent.com/attatrol/data_sources/master/onegin.txt\n",
    "    \n",
    "with open('onegin.txt', 'r') as iofile:\n",
    "    text = iofile.readlines()\n",
    "    \n",
    "text = [x.replace('\\t\\t', '') for x in text]"
   ]
  },
  {
   "cell_type": "markdown",
   "metadata": {
    "id": "Irynb0bpR1Tz"
   },
   "source": [
    "In opposite to the in-class practice, this time we want to predict complex text. Let's reduce the complexity of the task and lowercase all the symbols.\n",
    "\n",
    "Now variable `text` is a list of strings. Join all the strings into one and lowercase it."
   ]
  },
  {
   "cell_type": "code",
   "execution_count": null,
   "metadata": {
    "id": "koZT5wQAR1T0"
   },
   "outputs": [],
   "source": [
    "# Join all the strings into one and lowercase it\n",
    "# Put result into variable text.\n",
    "\n",
    "# Your great code here\n"
   ]
  },
  {
   "cell_type": "markdown",
   "metadata": {},
   "source": [
    "### Data loading: \"Eminem\""
   ]
  },
  {
   "cell_type": "markdown",
   "metadata": {},
   "source": [
    "Датасет взять отсюда https://www.kaggle.com/thaddeussegura/eminem-lyrics-from-all-albums"
   ]
  },
  {
   "cell_type": "code",
   "execution_count": 128,
   "metadata": {},
   "outputs": [],
   "source": [
    "with open('ALL_eminem.txt', 'r') as iofile:\n",
    "    text_em = iofile.readlines()"
   ]
  },
  {
   "cell_type": "code",
   "execution_count": 129,
   "metadata": {},
   "outputs": [],
   "source": [
    "text_em = ''.join(text_em).lower()\n",
    "\n",
    "tokens = sorted(set(text_em))\n",
    "\n",
    "# Your great code here\n",
    "token_to_idx = {token: idx for idx, token in enumerate(tokens)}\n",
    "\n",
    "# dict <char>:<index>\n",
    "# Your great code here\n",
    "idx_to_token = {idx: token for token, idx in token_to_idx.items()}"
   ]
  },
  {
   "cell_type": "code",
   "execution_count": 189,
   "metadata": {},
   "outputs": [
    {
     "data": {
      "text/plain": [
       "925005"
      ]
     },
     "execution_count": 189,
     "metadata": {},
     "output_type": "execute_result"
    }
   ],
   "source": [
    "len(text_em)"
   ]
  },
  {
   "cell_type": "markdown",
   "metadata": {
    "id": "gb_esP-IR1T0"
   },
   "source": [
    "Put all the characters, that you've seen in the text, into variable `tokens`."
   ]
  },
  {
   "cell_type": "code",
   "execution_count": 4,
   "metadata": {
    "id": "6MNHnS_dR1T0"
   },
   "outputs": [],
   "source": [
    "tokens = sorted(set(text))"
   ]
  },
  {
   "cell_type": "markdown",
   "metadata": {
    "id": "h3t1vd5xR1T0"
   },
   "source": [
    "Create dictionary `token_to_idx = {<char>: <index>}` and dictionary `idx_to_token = {<index>: <char>}`"
   ]
  },
  {
   "cell_type": "code",
   "execution_count": 5,
   "metadata": {
    "id": "Zqw_4kInR1T0"
   },
   "outputs": [],
   "source": [
    "# dict <index>:<char>\n",
    "# Your great code here\n",
    "token_to_idx = {token: idx for idx, token in enumerate(tokens)}\n",
    "\n",
    "# dict <char>:<index>\n",
    "# Your great code here\n",
    "idx_to_token = {idx: token for token, idx in token_to_idx.items()}"
   ]
  },
  {
   "cell_type": "markdown",
   "metadata": {
    "id": "tiwG3YceR1T1"
   },
   "source": [
    "*Comment: in this task we have only 38 different tokens, so let's use one-hot encoding.*"
   ]
  },
  {
   "cell_type": "markdown",
   "metadata": {
    "id": "KEja55XmR1T1"
   },
   "source": [
    "### Building the model"
   ]
  },
  {
   "cell_type": "markdown",
   "metadata": {
    "id": "FQL2bGB3R1T1"
   },
   "source": [
    "Now we want to build and train recurrent neural net which would be able to something similar to Shakespeare's poetry.\n",
    "\n",
    "Let's use vanilla RNN, similar to the one created during the lesson."
   ]
  },
  {
   "cell_type": "code",
   "execution_count": 173,
   "metadata": {
    "id": "zDg0VoXkR1T1"
   },
   "outputs": [],
   "source": [
    "class RNN(nn.Module):\n",
    "    def __init__(self, num_classes, emb_size, hidden_size):\n",
    "        super().__init__()\n",
    "        self.num_classes = num_classes\n",
    "        self.embedding = nn.Embedding(num_classes, emb_size)\n",
    "        self.rnn = nn.RNN(emb_size, hidden_size, batch_first=True)\n",
    "        self.rnn_to_logits = nn.Linear(hidden_size, num_classes)\n",
    "\n",
    "        \n",
    "    def forward(self, x, initial_state=None):\n",
    "\n",
    "        x_emb = self.embedding(x)\n",
    "        h_seq, hid_state = self.rnn(x_emb, initial_state)\n",
    "        next_logit = self.rnn_to_logits(h_seq)\n",
    "        return next_logit, hid_state\n",
    "    \n",
    "    def initial_state(self, batch_size):\n",
    "        \"\"\"Return RNN state before it processes the first input (h0).\"\"\"\n",
    "        return torch.zeros(batch_size, self.num_classes, requires_grad=True)"
   ]
  },
  {
   "cell_type": "code",
   "execution_count": 174,
   "metadata": {},
   "outputs": [],
   "source": [
    "class EminemDataset(Dataset):\n",
    "    def __init__(self, data, sample_length, token_to_idx, idx_to_token):\n",
    "        self.data = data\n",
    "        self.sample_length = sample_length\n",
    "        self.token_to_idx = token_to_idx\n",
    "        self.idx_to_token = idx_to_token\n",
    "        \n",
    "    def __len__(self):\n",
    "        return len(self.data) - self.sample_length\n",
    "    \n",
    "    def __getitem__(self, index):\n",
    "        text = self.data[index:index + self.sample_length]\n",
    "        tokenized_seq = np.array([token_to_idx[token] for token in text])\n",
    "        X = tokenized_seq[:-1]\n",
    "        y = tokenized_seq[1:]\n",
    "        return X, y"
   ]
  },
  {
   "cell_type": "code",
   "execution_count": 175,
   "metadata": {},
   "outputs": [
    {
     "data": {
      "application/vnd.jupyter.widget-view+json": {
       "model_id": "158330c0c8db426da251c033892a9702",
       "version_major": 2,
       "version_minor": 0
      },
      "text/plain": [
       "HBox(children=(FloatProgress(value=0.0, max=17.0), HTML(value='')))"
      ]
     },
     "metadata": {},
     "output_type": "display_data"
    },
    {
     "data": {
      "application/vnd.jupyter.widget-view+json": {
       "model_id": "",
       "version_major": 2,
       "version_minor": 0
      },
      "text/plain": [
       "HBox(children=(FloatProgress(value=0.0, max=904.0), HTML(value='')))"
      ]
     },
     "metadata": {},
     "output_type": "display_data"
    },
    {
     "data": {
      "application/vnd.jupyter.widget-view+json": {
       "model_id": "",
       "version_major": 2,
       "version_minor": 0
      },
      "text/plain": [
       "HBox(children=(FloatProgress(value=0.0, max=904.0), HTML(value='')))"
      ]
     },
     "metadata": {},
     "output_type": "display_data"
    },
    {
     "data": {
      "application/vnd.jupyter.widget-view+json": {
       "model_id": "",
       "version_major": 2,
       "version_minor": 0
      },
      "text/plain": [
       "HBox(children=(FloatProgress(value=0.0, max=904.0), HTML(value='')))"
      ]
     },
     "metadata": {},
     "output_type": "display_data"
    },
    {
     "data": {
      "application/vnd.jupyter.widget-view+json": {
       "model_id": "",
       "version_major": 2,
       "version_minor": 0
      },
      "text/plain": [
       "HBox(children=(FloatProgress(value=0.0, max=904.0), HTML(value='')))"
      ]
     },
     "metadata": {},
     "output_type": "display_data"
    },
    {
     "data": {
      "application/vnd.jupyter.widget-view+json": {
       "model_id": "",
       "version_major": 2,
       "version_minor": 0
      },
      "text/plain": [
       "HBox(children=(FloatProgress(value=0.0, max=904.0), HTML(value='')))"
      ]
     },
     "metadata": {},
     "output_type": "display_data"
    },
    {
     "data": {
      "application/vnd.jupyter.widget-view+json": {
       "model_id": "",
       "version_major": 2,
       "version_minor": 0
      },
      "text/plain": [
       "HBox(children=(FloatProgress(value=0.0, max=904.0), HTML(value='')))"
      ]
     },
     "metadata": {},
     "output_type": "display_data"
    },
    {
     "data": {
      "application/vnd.jupyter.widget-view+json": {
       "model_id": "",
       "version_major": 2,
       "version_minor": 0
      },
      "text/plain": [
       "HBox(children=(FloatProgress(value=0.0, max=904.0), HTML(value='')))"
      ]
     },
     "metadata": {},
     "output_type": "display_data"
    },
    {
     "data": {
      "application/vnd.jupyter.widget-view+json": {
       "model_id": "",
       "version_major": 2,
       "version_minor": 0
      },
      "text/plain": [
       "HBox(children=(FloatProgress(value=0.0, max=904.0), HTML(value='')))"
      ]
     },
     "metadata": {},
     "output_type": "display_data"
    },
    {
     "data": {
      "application/vnd.jupyter.widget-view+json": {
       "model_id": "",
       "version_major": 2,
       "version_minor": 0
      },
      "text/plain": [
       "HBox(children=(FloatProgress(value=0.0, max=904.0), HTML(value='')))"
      ]
     },
     "metadata": {},
     "output_type": "display_data"
    },
    {
     "data": {
      "application/vnd.jupyter.widget-view+json": {
       "model_id": "",
       "version_major": 2,
       "version_minor": 0
      },
      "text/plain": [
       "HBox(children=(FloatProgress(value=0.0, max=904.0), HTML(value='')))"
      ]
     },
     "metadata": {},
     "output_type": "display_data"
    },
    {
     "data": {
      "application/vnd.jupyter.widget-view+json": {
       "model_id": "",
       "version_major": 2,
       "version_minor": 0
      },
      "text/plain": [
       "HBox(children=(FloatProgress(value=0.0, max=904.0), HTML(value='')))"
      ]
     },
     "metadata": {},
     "output_type": "display_data"
    },
    {
     "data": {
      "application/vnd.jupyter.widget-view+json": {
       "model_id": "",
       "version_major": 2,
       "version_minor": 0
      },
      "text/plain": [
       "HBox(children=(FloatProgress(value=0.0, max=904.0), HTML(value='')))"
      ]
     },
     "metadata": {},
     "output_type": "display_data"
    },
    {
     "data": {
      "application/vnd.jupyter.widget-view+json": {
       "model_id": "",
       "version_major": 2,
       "version_minor": 0
      },
      "text/plain": [
       "HBox(children=(FloatProgress(value=0.0, max=904.0), HTML(value='')))"
      ]
     },
     "metadata": {},
     "output_type": "display_data"
    },
    {
     "data": {
      "application/vnd.jupyter.widget-view+json": {
       "model_id": "",
       "version_major": 2,
       "version_minor": 0
      },
      "text/plain": [
       "HBox(children=(FloatProgress(value=0.0, max=904.0), HTML(value='')))"
      ]
     },
     "metadata": {},
     "output_type": "display_data"
    },
    {
     "data": {
      "application/vnd.jupyter.widget-view+json": {
       "model_id": "",
       "version_major": 2,
       "version_minor": 0
      },
      "text/plain": [
       "HBox(children=(FloatProgress(value=0.0, max=904.0), HTML(value='')))"
      ]
     },
     "metadata": {},
     "output_type": "display_data"
    },
    {
     "data": {
      "application/vnd.jupyter.widget-view+json": {
       "model_id": "",
       "version_major": 2,
       "version_minor": 0
      },
      "text/plain": [
       "HBox(children=(FloatProgress(value=0.0, max=904.0), HTML(value='')))"
      ]
     },
     "metadata": {},
     "output_type": "display_data"
    },
    {
     "data": {
      "application/vnd.jupyter.widget-view+json": {
       "model_id": "",
       "version_major": 2,
       "version_minor": 0
      },
      "text/plain": [
       "HBox(children=(FloatProgress(value=0.0, max=904.0), HTML(value='')))"
      ]
     },
     "metadata": {},
     "output_type": "display_data"
    },
    {
     "name": "stdout",
     "output_type": "stream",
     "text": [
      "\n"
     ]
    }
   ],
   "source": [
    "USE_CUDA = torch.cuda.is_available()\n",
    "\n",
    "SAMPLE_LENGTH = 150\n",
    "BATCH_SIZE = 1024\n",
    "NUM_WORKERS = 24\n",
    "\n",
    "NUM_CLASSES = len(tokens)\n",
    "EMB_SIZE = 64\n",
    "HIDDEN_SIZE = 128\n",
    "\n",
    "LR = 1e-3\n",
    "EPOCHS = 17\n",
    "\n",
    "device = torch.device('cuda:0') if USE_CUDA else torch.device('cpu')\n",
    "\n",
    "train_dataset = EminemDataset(text_em, SAMPLE_LENGTH, token_to_idx, idx_to_token)\n",
    "\n",
    "train_loader = DataLoader(\n",
    "    train_dataset,\n",
    "    batch_size=BATCH_SIZE,\n",
    "    num_workers=NUM_WORKERS,\n",
    "    shuffle=True,\n",
    "    pin_memory=True\n",
    ")\n",
    "\n",
    "rnn_model = RNN(NUM_CLASSES, EMB_SIZE, HIDDEN_SIZE).to(device)\n",
    "optimizer = optim.Adam(rnn_model.parameters(), LR)\n",
    "criterion = nn.CrossEntropyLoss()\n",
    "\n",
    "def train(model, optimizer, criterion, epochs):\n",
    "    t_epochs = tqdm(range(epochs))\n",
    "    avg_train_losses = []\n",
    "\n",
    "    for epoch in t_epochs:\n",
    "        avg_train_loss = 0\n",
    "\n",
    "        t_train_loader = tqdm(\n",
    "            train_loader,\n",
    "            total=len(train_loader),\n",
    "            leave=False\n",
    "        )\n",
    "\n",
    "        for X_batch, y_batch in t_train_loader:\n",
    "            X_batch = X_batch.to(device)\n",
    "            y_batch = y_batch.to(device)\n",
    "\n",
    "            y_pred, _ = model(X_batch)\n",
    "\n",
    "            loss = criterion(y_pred.view(-1, model.num_classes), y_batch.view(-1))\n",
    "            train_loss = loss.item()\n",
    "\n",
    "            t_train_loader.set_postfix(train_loss=train_loss)\n",
    "            avg_train_loss += train_loss / len(train_loader)\n",
    "\n",
    "            optimizer.zero_grad()\n",
    "            loss.backward()\n",
    "            optimizer.step()\n",
    "\n",
    "        t_epochs.set_postfix(avg_train_loss=avg_train_loss)\n",
    "        avg_train_losses.append(avg_train_loss)   \n",
    "    return avg_train_losses\n",
    "\n",
    "avg_train_losses = train(rnn_model, optimizer, criterion, EPOCHS)"
   ]
  },
  {
   "cell_type": "markdown",
   "metadata": {
    "id": "fRoaWZvrR1T1"
   },
   "source": [
    "Plot the loss function (axis X: number of epochs, axis Y: loss function)."
   ]
  },
  {
   "cell_type": "code",
   "execution_count": 176,
   "metadata": {
    "id": "YYoZ-zfbR1T1"
   },
   "outputs": [
    {
     "data": {
      "image/png": "[encoded data removed]",
      "text/plain": [
       "<Figure size 720x432 with 1 Axes>"
      ]
     },
     "metadata": {
      "needs_background": "light"
     },
     "output_type": "display_data"
    }
   ],
   "source": [
    "# Your plot code here\n",
    "def plot_train_loss(avg_train_losses):\n",
    "    plt.figure(figsize=(10, 6))\n",
    "    plt.plot(avg_train_losses, label='Train loss')\n",
    "    plt.xlabel('Epoch')\n",
    "    plt.ylabel('Loss')\n",
    "    plt.legend();\n",
    "\n",
    "plot_train_loss(avg_train_losses)"
   ]
  },
  {
   "cell_type": "code",
   "execution_count": 177,
   "metadata": {},
   "outputs": [],
   "source": [
    "def generate_sample(model, hid_state=None, seed_phrase=' god', length=100, temperature=1.0):\n",
    "    '''\n",
    "    ### Disclaimer: this is an example function for text generation.\n",
    "    ### You can either adapt it in your code or create your own function\n",
    "    \n",
    "    The function generates text given a phrase of length at least SEQ_LENGTH.\n",
    "    :param seed_phrase: prefix characters. The RNN is asked to continue the phrase\n",
    "    :param max_length: maximum output length, including seed_phrase\n",
    "    :param temperature: coefficient for sampling.  higher temperature produces more chaotic outputs, \n",
    "        smaller temperature converges to the single most likely output.\n",
    "        \n",
    "    Be careful with the model output. This model waits logits (not probabilities/log-probabilities)\n",
    "    of the next symbol.\n",
    "    '''\n",
    "    \n",
    "    x_sequence = [token_to_idx[token] for token in seed_phrase]\n",
    "    x_sequence = torch.tensor([[x_sequence]], dtype=torch.int64)\n",
    "\n",
    "    \n",
    "    #feed the seed phrase, if any\n",
    "    for i in range(len(seed_phrase) - 1):\n",
    "        \n",
    "        out, hid_state = model(x_sequence[:, :, i], hid_state)\n",
    "\n",
    "\n",
    "    #start generating\n",
    "    for _ in range(length - len(seed_phrase)):\n",
    "        out, hid_state = model(x_sequence[:, :, -1], hid_state)\n",
    "        # Be really careful here with the model output\n",
    "        p_next = F.softmax(out / temperature, dim=-1).data.numpy()[0][0]\n",
    "        \n",
    "        # sample next token and push it back into x_sequence\n",
    "        next_ix = np.random.choice(len(tokens), p=p_next)\n",
    "        next_ix = torch.tensor([[[next_ix]]], dtype=torch.int64)\n",
    "        x_sequence = torch.cat([x_sequence, next_ix], dim=2)\n",
    "        \n",
    "    return ''.join([tokens[ix] for ix in x_sequence.data.numpy()[0][0]])"
   ]
  },
  {
   "cell_type": "code",
   "execution_count": 188,
   "metadata": {},
   "outputs": [
    {
     "name": "stdout",
     "output_type": "stream",
     "text": [
      " god damn that would get your fact it are you in the fucking done of a half are right there to said and speaking a storms\n",
      "i made me to be stopping the world and let me stop when there to me and i was a straight the world is a beat to be down to the couple instant in the way to the been and started in the more so really don't make me the day is the trick and i was a things i got him in the shit is the black and got a back and straight off at the back in the light the way it and when you say that i'm a motherfuckers be starting to make a boood to the motherfuckin' one of the day what you wanna go the closet the back to the million to my bed back in the daughter the shove, i see the fuck me and\n"
     ]
    }
   ],
   "source": [
    "print(\n",
    "    generate_sample(\n",
    "        rnn_model.cpu(),\n",
    "        seed_phrase=' god',\n",
    "        length=700,\n",
    "        temperature=0.4\n",
    "    )\n",
    ")"
   ]
  },
  {
   "cell_type": "markdown",
   "metadata": {
    "id": "eZ8xrtv3R1T2"
   },
   "source": [
    "### More poetic model\n",
    "\n",
    "Let's use LSTM instead of vanilla RNN and compare the results."
   ]
  },
  {
   "cell_type": "markdown",
   "metadata": {
    "id": "vO7zBm4qR1T2"
   },
   "source": [
    "Plot the loss function of the number of epochs. Does the final loss become better?"
   ]
  },
  {
   "cell_type": "code",
   "execution_count": 181,
   "metadata": {
    "id": "EbgkDlWgR1T3"
   },
   "outputs": [],
   "source": [
    "# Your beautiful code here\n",
    "class LSTM(nn.Module):\n",
    "    def __init__(self, num_classes, emb_size, hidden_size):\n",
    "        super().__init__()\n",
    "        self.num_classes = num_classes\n",
    "        self.one_hot_to_emb = nn.Linear(num_classes, emb_size)\n",
    "        self.rnn = nn.LSTM(emb_size, hidden_size, batch_first=True)\n",
    "        self.rnn_to_logits = nn.Linear(hidden_size, num_classes)\n",
    "        \n",
    "    def forward(self, x, initial_state=None):\n",
    "        x_emb = self.one_hot_to_emb(F.one_hot(x, self.num_classes).float())\n",
    "        h_seq, hid_state = self.rnn(x_emb, initial_state)\n",
    "        next_logit = self.rnn_to_logits(h_seq)\n",
    "        return next_logit, hid_state"
   ]
  },
  {
   "cell_type": "code",
   "execution_count": 182,
   "metadata": {},
   "outputs": [
    {
     "data": {
      "application/vnd.jupyter.widget-view+json": {
       "model_id": "c8c99abcd62948c598f3c4a0985c010a",
       "version_major": 2,
       "version_minor": 0
      },
      "text/plain": [
       "HBox(children=(FloatProgress(value=0.0, max=17.0), HTML(value='')))"
      ]
     },
     "metadata": {},
     "output_type": "display_data"
    },
    {
     "data": {
      "application/vnd.jupyter.widget-view+json": {
       "model_id": "",
       "version_major": 2,
       "version_minor": 0
      },
      "text/plain": [
       "HBox(children=(FloatProgress(value=0.0, max=904.0), HTML(value='')))"
      ]
     },
     "metadata": {},
     "output_type": "display_data"
    },
    {
     "data": {
      "application/vnd.jupyter.widget-view+json": {
       "model_id": "",
       "version_major": 2,
       "version_minor": 0
      },
      "text/plain": [
       "HBox(children=(FloatProgress(value=0.0, max=904.0), HTML(value='')))"
      ]
     },
     "metadata": {},
     "output_type": "display_data"
    },
    {
     "data": {
      "application/vnd.jupyter.widget-view+json": {
       "model_id": "",
       "version_major": 2,
       "version_minor": 0
      },
      "text/plain": [
       "HBox(children=(FloatProgress(value=0.0, max=904.0), HTML(value='')))"
      ]
     },
     "metadata": {},
     "output_type": "display_data"
    },
    {
     "data": {
      "application/vnd.jupyter.widget-view+json": {
       "model_id": "",
       "version_major": 2,
       "version_minor": 0
      },
      "text/plain": [
       "HBox(children=(FloatProgress(value=0.0, max=904.0), HTML(value='')))"
      ]
     },
     "metadata": {},
     "output_type": "display_data"
    },
    {
     "data": {
      "application/vnd.jupyter.widget-view+json": {
       "model_id": "",
       "version_major": 2,
       "version_minor": 0
      },
      "text/plain": [
       "HBox(children=(FloatProgress(value=0.0, max=904.0), HTML(value='')))"
      ]
     },
     "metadata": {},
     "output_type": "display_data"
    },
    {
     "data": {
      "application/vnd.jupyter.widget-view+json": {
       "model_id": "",
       "version_major": 2,
       "version_minor": 0
      },
      "text/plain": [
       "HBox(children=(FloatProgress(value=0.0, max=904.0), HTML(value='')))"
      ]
     },
     "metadata": {},
     "output_type": "display_data"
    },
    {
     "data": {
      "application/vnd.jupyter.widget-view+json": {
       "model_id": "",
       "version_major": 2,
       "version_minor": 0
      },
      "text/plain": [
       "HBox(children=(FloatProgress(value=0.0, max=904.0), HTML(value='')))"
      ]
     },
     "metadata": {},
     "output_type": "display_data"
    },
    {
     "data": {
      "application/vnd.jupyter.widget-view+json": {
       "model_id": "",
       "version_major": 2,
       "version_minor": 0
      },
      "text/plain": [
       "HBox(children=(FloatProgress(value=0.0, max=904.0), HTML(value='')))"
      ]
     },
     "metadata": {},
     "output_type": "display_data"
    },
    {
     "data": {
      "application/vnd.jupyter.widget-view+json": {
       "model_id": "",
       "version_major": 2,
       "version_minor": 0
      },
      "text/plain": [
       "HBox(children=(FloatProgress(value=0.0, max=904.0), HTML(value='')))"
      ]
     },
     "metadata": {},
     "output_type": "display_data"
    },
    {
     "data": {
      "application/vnd.jupyter.widget-view+json": {
       "model_id": "",
       "version_major": 2,
       "version_minor": 0
      },
      "text/plain": [
       "HBox(children=(FloatProgress(value=0.0, max=904.0), HTML(value='')))"
      ]
     },
     "metadata": {},
     "output_type": "display_data"
    },
    {
     "data": {
      "application/vnd.jupyter.widget-view+json": {
       "model_id": "",
       "version_major": 2,
       "version_minor": 0
      },
      "text/plain": [
       "HBox(children=(FloatProgress(value=0.0, max=904.0), HTML(value='')))"
      ]
     },
     "metadata": {},
     "output_type": "display_data"
    },
    {
     "data": {
      "application/vnd.jupyter.widget-view+json": {
       "model_id": "",
       "version_major": 2,
       "version_minor": 0
      },
      "text/plain": [
       "HBox(children=(FloatProgress(value=0.0, max=904.0), HTML(value='')))"
      ]
     },
     "metadata": {},
     "output_type": "display_data"
    },
    {
     "data": {
      "application/vnd.jupyter.widget-view+json": {
       "model_id": "",
       "version_major": 2,
       "version_minor": 0
      },
      "text/plain": [
       "HBox(children=(FloatProgress(value=0.0, max=904.0), HTML(value='')))"
      ]
     },
     "metadata": {},
     "output_type": "display_data"
    },
    {
     "data": {
      "application/vnd.jupyter.widget-view+json": {
       "model_id": "",
       "version_major": 2,
       "version_minor": 0
      },
      "text/plain": [
       "HBox(children=(FloatProgress(value=0.0, max=904.0), HTML(value='')))"
      ]
     },
     "metadata": {},
     "output_type": "display_data"
    },
    {
     "data": {
      "application/vnd.jupyter.widget-view+json": {
       "model_id": "",
       "version_major": 2,
       "version_minor": 0
      },
      "text/plain": [
       "HBox(children=(FloatProgress(value=0.0, max=904.0), HTML(value='')))"
      ]
     },
     "metadata": {},
     "output_type": "display_data"
    },
    {
     "data": {
      "application/vnd.jupyter.widget-view+json": {
       "model_id": "",
       "version_major": 2,
       "version_minor": 0
      },
      "text/plain": [
       "HBox(children=(FloatProgress(value=0.0, max=904.0), HTML(value='')))"
      ]
     },
     "metadata": {},
     "output_type": "display_data"
    },
    {
     "data": {
      "application/vnd.jupyter.widget-view+json": {
       "model_id": "",
       "version_major": 2,
       "version_minor": 0
      },
      "text/plain": [
       "HBox(children=(FloatProgress(value=0.0, max=904.0), HTML(value='')))"
      ]
     },
     "metadata": {},
     "output_type": "display_data"
    },
    {
     "name": "stdout",
     "output_type": "stream",
     "text": [
      "\n"
     ]
    }
   ],
   "source": [
    "lstm_model = LSTM(NUM_CLASSES, EMB_SIZE, HIDDEN_SIZE).to(device)\n",
    "optimizer = optim.Adam(lstm_model.parameters(), LR)\n",
    "criterion = nn.CrossEntropyLoss()\n",
    "\n",
    "avg_train_losses = train(lstm_model, optimizer, criterion, EPOCHS)"
   ]
  },
  {
   "cell_type": "code",
   "execution_count": 183,
   "metadata": {},
   "outputs": [
    {
     "data": {
      "image/png": "[encoded data removed]",
      "text/plain": [
       "<Figure size 720x432 with 1 Axes>"
      ]
     },
     "metadata": {
      "needs_background": "light"
     },
     "output_type": "display_data"
    }
   ],
   "source": [
    "plot_train_loss(avg_train_losses)"
   ]
  },
  {
   "cell_type": "markdown",
   "metadata": {
    "id": "qg-KH4NYR1T3"
   },
   "source": [
    "Generate text using the trained net with different `temperature` parameter: `[0.1, 0.2, 0.5, 1.0, 2.0]`.\n",
    "\n",
    "Evaluate the results visually, try to interpret them."
   ]
  },
  {
   "cell_type": "code",
   "execution_count": 186,
   "metadata": {
    "id": "x-nWxMIaR1T3"
   },
   "outputs": [
    {
     "name": "stdout",
     "output_type": "stream",
     "text": [
      "temperature = 0.1 \n",
      "\n",
      "  god damn down the same shit i can see the shit\n",
      "i don't wanna be a starter so much off and stop it (i had a big with her)\n",
      "i got a bottle of meant to be the streets\n",
      "i got a strunk at the streets to the morning and started and the starting to see the shit\n",
      "i was started to the streets to the morning and started and the best to see the show you to say i was so fall of my face\n",
      "i don't wanna be the more \n",
      "  -----------------------------------------------------------------------\n",
      "\n",
      "temperature = 0.2 \n",
      "\n",
      "  god damn did that i said i was not a stranger\n",
      "i wanna know what had to see you was a back to the mic and said that you can be a starter than to start the shit\n",
      "i can see me for the streets to the mount of me\n",
      "i don't know what i got a chainsaw in the morning\n",
      "and i was supposed to be the steps of the trash to the back of my head\n",
      "i could be a show your shit in the decres i got some song\n",
      "i got a bottl \n",
      "  -----------------------------------------------------------------------\n",
      "\n",
      "temperature = 0.5 \n",
      "\n",
      "  god, i can't get her bitch, you started and got the stepping every time you see when you say i make everything\n",
      "but i got a mouth i don't know what i got a back\n",
      "and you can flow the show and be like she was\n",
      "but i am in the moon, you can't do what i say i said\n",
      "\n",
      "[eminem:]\n",
      "it's speaking like i'm on the floor\n",
      "i was streets down like a stale my duck in the stripton and started bad\n",
      "make me an arm a good \n",
      "  -----------------------------------------------------------------------\n",
      "\n",
      "temperature = 1.0 \n",
      "\n",
      "  god to that wallutiall\n",
      "but i'mma shoot a little bit toy, baby juggin' until that machine\n",
      "i don't wanna fuck with the ifi'vor ass\n",
      "i'm not for a bitter are thing\n",
      "i'll be you without the stop in head understand, get mad\n",
      "wherever ho, i take amera-heas and i'm trami-e-yet\n",
      "i'm a some taily's none in the suppled of pay?\n",
      "(gets the bot a bark) for me\n",
      "(i'll just block of those yangly) now's why you can cra \n",
      "  -----------------------------------------------------------------------\n",
      "\n",
      "temperature = 2.0 \n",
      "\n",
      "  goddegen\n",
      "gue wart palumpav, lugjabetaezevages up?.\n",
      "hi, ty-liarchher...5; klarm jab'bls pracpy, practacy.\" and wi\n",
      "schroof line,\n",
      "let my leal huend jares (worgiz:]\n",
      "his naten knid a shadil\n",
      "\"up big..\".\"[eqychen?]uh op., z-eergwit-a-cye!ah-wi, funsu-y-t- (em \"rovoodo)\n",
      "y3, [q-ubbuggle!!) lum\n",
      "li, b-bapka\"r..\n",
      "a, lefta??!…! hu?)\n",
      "'at madebably pill?\n",
      "tearoo kievio\n",
      "ang! vig, \"'-he 4st-produrfuunvel,,, \"jorger \n",
      "  -----------------------------------------------------------------------\n",
      "\n"
     ]
    }
   ],
   "source": [
    "# Text generation with different temperature values here\n",
    "temp = [0.1, 0.2, 0.5, 1.0, 2.0]\n",
    "\n",
    "for temperature in temp:\n",
    "    print(\n",
    "        f'temperature = {temperature} \\n\\n',\n",
    "        generate_text(\n",
    "            lstm_model.cpu(),\n",
    "            seed_phrase=' god',\n",
    "            length=400,\n",
    "            temperature=temperature\n",
    "        ),\n",
    "        '\\n  -----------------------------------------------------------------------\\n'\n",
    "    )"
   ]
  },
  {
   "cell_type": "markdown",
   "metadata": {
    "id": "oG4NL0pNR1T3"
   },
   "source": [
    "### Saving and loading models"
   ]
  },
  {
   "cell_type": "markdown",
   "metadata": {
    "id": "hUbRyVa8R1T3"
   },
   "source": [
    "Save the model to the disk, then load it and generate text. Examples are available [here](https://pytorch.org/tutorials/beginner/saving_loading_models.html])."
   ]
  },
  {
   "cell_type": "code",
   "execution_count": 187,
   "metadata": {
    "id": "u4zhtX75R1T3"
   },
   "outputs": [
    {
     "name": "stdout",
     "output_type": "stream",
     "text": [
      " god i'm finhhole\"\n",
      "oppin' my body like you know\n",
      "(i'm nothings)ure, tired or sock nobody\n",
      "strentie tryin outta my song with shit i sit\n",
      "bounches up back to the burter, it remind of off\n",
      "but on the spittinem 'cause the vocace woman help you\n",
      "abuer tire to control and how she's outside of the med\n",
      "\n",
      "who the fuck is fighting and yebara!\n",
      "as a circukes roiner witnece of wash out to flaf was\n",
      "through the doctors, scar's raised them who well you explaintring\n",
      "never give your peacest, ahmoor wrese little bite snow\n",
      "\n",
      "[eminem:]\n",
      "i’m never so way, bit along, stand torragh with spark with yeah\n",
      "\n",
      "[butts)warded a gultand\n",
      "elever down pain i don't know when these razo-rogger than seeking us\n",
      "more, you better truly with how it\n",
      "i was fucking come to accedly illermen\n",
      "that's why we won?\n",
      "hope it all be by a best me, amperty\n",
      "\n",
      "i said i'm a neithess, what? (yeah)\n",
      "everybody swand and i'ma teed on togething and, hurch i'll have it?\n",
      "get at a feltranne\n",
      "so many the comes the choated when i'm in your generate\n",
      "i'll hate that may\n"
     ]
    }
   ],
   "source": [
    "# Saving and loading code here\n",
    "\n",
    "MODEL_SAVE_PATH = 'lstm_model.pth'\n",
    "\n",
    "torch.save(lstm_model.state_dict(), MODEL_SAVE_PATH)\n",
    "\n",
    "lstm_model = LSTM(NUM_CLASSES, EMB_SIZE, HIDDEN_SIZE)\n",
    "lstm_model.load_state_dict(torch.load(MODEL_SAVE_PATH))\n",
    "\n",
    "print(\n",
    "    generate_text(\n",
    "        lstm_model,\n",
    "        seed_phrase=' god',\n",
    "        length=1000,\n",
    "        temperature=1.0\n",
    "    )\n",
    ")"
   ]
  },
  {
   "cell_type": "markdown",
   "metadata": {
    "id": "P90oKUWaR1T3"
   },
   "source": [
    "### References\n",
    "1. <a href='http://karpathy.github.io/2015/05/21/rnn-effectiveness/'> Andrew Karpathy blog post about RNN. </a> \n",
    "There are several examples of genration: Shakespeare texts, Latex formulas, Linux Sourse Code and children names.\n",
    "2. <a href='https://github.com/karpathy/char-rnn'> Repo with char-rnn code </a>\n",
    "3. Cool repo with PyTorch examples: [link](https://github.com/spro/practical-pytorch`)"
   ]
  }
 ],
 "metadata": {
  "anaconda-cloud": {},
  "colab": {
   "name": "Lab01_Poetry_generation.ipynb",
   "provenance": []
  },
  "kernelspec": {
   "display_name": "Python 3",
   "language": "python",
   "name": "python3"
  },
  "language_info": {
   "codemirror_mode": {
    "name": "ipython",
    "version": 3
   },
   "file_extension": ".py",
   "mimetype": "text/x-python",
   "name": "python",
   "nbconvert_exporter": "python",
   "pygments_lexer": "ipython3",
   "version": "3.8.3"
  }
 },
 "nbformat": 4,
 "nbformat_minor": 1
}
