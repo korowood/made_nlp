{
 "cells": [
  {
   "cell_type": "markdown",
   "metadata": {
    "id": "eulvfJWl7ueY"
   },
   "source": [
    "## Homework 02: Unsupervised embedding-based MT\n",
    "*Note: this homework is based on open materials from yandexdataschool [NLP course](https://github.com/yandexdataschool/nlp_course/). Feel free to check this awesome course if you wish to dig deeper.*\n",
    "\n",
    "*Refined by [Nikolay Karpachev](https://www.linkedin.com/in/nikolay-karpachev-b0146a104/)*"
   ]
  },
  {
   "cell_type": "markdown",
   "metadata": {
    "id": "fV4rIjxa7uei"
   },
   "source": [
    "**In this homework** **<font color='red'>YOU</font>** will make machine translation system without using parallel corpora, alignment, attention, 100500 depth super-cool recurrent neural network and all that kind superstuff.\n",
    "\n",
    "But even without parallel corpora this system can be good enough (hopefully), in particular for similar languages, e.g. Ukrainian and Russian. "
   ]
  },
  {
   "cell_type": "markdown",
   "metadata": {
    "id": "idSYq2GU7uew"
   },
   "source": [
    "### Frament of the Swadesh list for some slavic languages\n",
    "\n",
    "The Swadesh list is a lexicostatistical stuff. It's named after American linguist Morris Swadesh and contains basic lexis. This list are used to define subgroupings of languages, its relatedness.\n",
    "\n",
    "So we can see some kind of word invariance for different Slavic languages.\n",
    "\n",
    "\n",
    "| Russian         | Belorussian              | Ukrainian               | Polish             | Czech                         | Bulgarian            |\n",
    "|-----------------|--------------------------|-------------------------|--------------------|-------------------------------|-----------------------|\n",
    "| женщина         | жанчына, кабета, баба    | жінка                   | kobieta            | žena                          | жена                  |\n",
    "| мужчина         | мужчына                  | чоловік, мужчина        | mężczyzna          | muž                           | мъж                   |\n",
    "| человек         | чалавек                  | людина, чоловік         | człowiek           | člověk                        | човек                 |\n",
    "| ребёнок, дитя   | дзіця, дзіцёнак, немаўля | дитина, дитя            | dziecko            | dítě                          | дете                  |\n",
    "| жена            | жонка                    | дружина, жінка          | żona               | žena, manželka, choť          | съпруга, жена         |\n",
    "| муж             | муж, гаспадар            | чоловiк, муж            | mąż                | muž, manžel, choť             | съпруг, мъж           |\n",
    "| мать, мама      | маці, матка              | мати, матір, неня, мама | matka              | matka, máma, 'стар.' mateř    | майка                 |\n",
    "| отец, тятя      | бацька, тата             | батько, тато, татусь    | ojciec             | otec                          | баща, татко           |\n",
    "| много           | шмат, багата             | багато                  | wiele              | mnoho, hodně                  | много                 |\n",
    "| несколько       | некалькі, колькі         | декілька, кілька        | kilka              | několik, pár, trocha          | няколко               |\n",
    "| другой, иной    | іншы                     | інший                   | inny               | druhý, jiný                   | друг                  |\n",
    "| зверь, животное | жывёла, звер, істота     | тварина, звір           | zwierzę            | zvíře                         | животно               |\n",
    "| рыба            | рыба                     | риба                    | ryba               | ryba                          | риба                  |\n",
    "| птица           | птушка                   | птах, птиця             | ptak               | pták                          | птица                 |\n",
    "| собака, пёс     | сабака                   | собака, пес             | pies               | pes                           | куче, пес             |\n",
    "| вошь            | вош                      | воша                    | wesz               | veš                           | въшка                 |\n",
    "| змея, гад       | змяя                     | змія, гад               | wąż                | had                           | змия                  |\n",
    "| червь, червяк   | чарвяк                   | хробак, черв'як         | robak              | červ                          | червей                |\n",
    "| дерево          | дрэва                    | дерево                  | drzewo             | strom, dřevo                  | дърво                 |\n",
    "| лес             | лес                      | ліс                     | las                | les                           | гора, лес             |\n",
    "| палка           | кій, палка               | палиця                  | patyk, pręt, pałka | hůl, klacek, prut, kůl, pálka | палка, пръчка, бастун |"
   ]
  },
  {
   "cell_type": "markdown",
   "metadata": {
    "id": "cNM3_fjr7ue2"
   },
   "source": [
    "But the context distribution of these languages demonstrates even more invariance. And we can use this fact for our for our purposes."
   ]
  },
  {
   "cell_type": "markdown",
   "metadata": {
    "id": "YLppwa527ue6"
   },
   "source": [
    "## Data"
   ]
  },
  {
   "cell_type": "code",
   "execution_count": 1,
   "metadata": {
    "id": "lYBGKAUn7ue_"
   },
   "outputs": [],
   "source": [
    "import gensim\n",
    "import numpy as np\n",
    "from gensim.models import KeyedVectors"
   ]
  },
  {
   "cell_type": "markdown",
   "metadata": {
    "id": "MwGoVhRA7ufP"
   },
   "source": [
    "In this notebook we're going to use pretrained word vectors - FastText (original paper - https://arxiv.org/abs/1607.04606).\n",
    "\n",
    "You can download them from the official [website](https://fasttext.cc/docs/en/crawl-vectors.html). We're going to need embeddings for Russian and Ukrainian languages. Please use word2vec-compatible format (.text)."
   ]
  },
  {
   "cell_type": "code",
   "execution_count": 2,
   "metadata": {
    "id": "u1JjQv_97ufT"
   },
   "outputs": [
    {
     "name": "stdout",
     "output_type": "stream",
     "text": [
      "CPU times: user 7min 51s, sys: 3.05 s, total: 7min 54s\n",
      "Wall time: 7min 54s\n"
     ]
    }
   ],
   "source": [
    "%%time\n",
    "uk_emb = KeyedVectors.load_word2vec_format(\"cc.uk.300.vec\")"
   ]
  },
  {
   "cell_type": "code",
   "execution_count": 3,
   "metadata": {
    "id": "ffzuept_7ufd"
   },
   "outputs": [
    {
     "name": "stdout",
     "output_type": "stream",
     "text": [
      "CPU times: user 8min 2s, sys: 3.73 s, total: 8min 6s\n",
      "Wall time: 8min 7s\n"
     ]
    }
   ],
   "source": [
    "%%time\n",
    "ru_emb = KeyedVectors.load_word2vec_format(\"cc.ru.300.vec\")"
   ]
  },
  {
   "cell_type": "code",
   "execution_count": 4,
   "metadata": {
    "id": "nTkXfT0W7ufk"
   },
   "outputs": [
    {
     "data": {
      "text/plain": [
       "[('август', 1.0),\n",
       " ('июль', 0.9383152723312378),\n",
       " ('сентябрь', 0.9240028858184814),\n",
       " ('июнь', 0.9222576022148132),\n",
       " ('октябрь', 0.9095539450645447),\n",
       " ('ноябрь', 0.893003523349762),\n",
       " ('апрель', 0.8729087710380554),\n",
       " ('декабрь', 0.8652558326721191),\n",
       " ('март', 0.8545796871185303),\n",
       " ('февраль', 0.8401416540145874)]"
      ]
     },
     "execution_count": 4,
     "metadata": {},
     "output_type": "execute_result"
    }
   ],
   "source": [
    "ru_emb.most_similar([ru_emb[\"август\"]], topn=10)"
   ]
  },
  {
   "cell_type": "code",
   "execution_count": 5,
   "metadata": {
    "id": "vdBA8lcg7ufs"
   },
   "outputs": [
    {
     "data": {
      "text/plain": [
       "[('серпень', 0.9999999403953552),\n",
       " ('липень', 0.9096439480781555),\n",
       " ('вересень', 0.901697039604187),\n",
       " ('червень', 0.8992520570755005),\n",
       " ('жовтень', 0.8810408115386963),\n",
       " ('листопад', 0.8787633776664734),\n",
       " ('квітень', 0.8592805862426758),\n",
       " ('грудень', 0.8586863279342651),\n",
       " ('травень', 0.840811014175415),\n",
       " ('лютий', 0.8256430625915527)]"
      ]
     },
     "execution_count": 5,
     "metadata": {},
     "output_type": "execute_result"
    }
   ],
   "source": [
    "uk_emb.most_similar([uk_emb[\"серпень\"]])"
   ]
  },
  {
   "cell_type": "code",
   "execution_count": 6,
   "metadata": {
    "id": "_yJvcKXO7uf0"
   },
   "outputs": [
    {
     "data": {
      "text/plain": [
       "[('Stepashka.com', 0.27579623460769653),\n",
       " ('ЖИЗНИВадим', 0.25203439593315125),\n",
       " ('2Дмитрий', 0.25048112869262695),\n",
       " ('2012Дмитрий', 0.24829229712486267),\n",
       " ('Ведущий-Алексей', 0.2443869560956955),\n",
       " ('Недопустимость', 0.2443528175354004),\n",
       " ('2Михаил', 0.23981396853923798),\n",
       " ('лексей', 0.23740753531455994),\n",
       " ('комплексн', 0.2369515299797058),\n",
       " ('персональ', 0.236822247505188)]"
      ]
     },
     "execution_count": 6,
     "metadata": {},
     "output_type": "execute_result"
    }
   ],
   "source": [
    "ru_emb.most_similar([uk_emb[\"серпень\"]])"
   ]
  },
  {
   "cell_type": "markdown",
   "metadata": {
    "id": "pNdYAR1q7uf6"
   },
   "source": [
    "Load small dictionaries for correspoinding words pairs as trainset and testset."
   ]
  },
  {
   "cell_type": "code",
   "execution_count": 7,
   "metadata": {
    "id": "35d_DAK67uf8"
   },
   "outputs": [],
   "source": [
    "def load_word_pairs(filename):\n",
    "    uk_ru_pairs = []\n",
    "    uk_vectors = []\n",
    "    ru_vectors = []\n",
    "    with open(filename, \"r\") as inpf:\n",
    "        for line in inpf:\n",
    "            uk, ru = line.rstrip().split(\"\\t\")\n",
    "            if uk not in uk_emb or ru not in ru_emb:\n",
    "                continue\n",
    "            uk_ru_pairs.append((uk, ru))\n",
    "            uk_vectors.append(uk_emb[uk])\n",
    "            ru_vectors.append(ru_emb[ru])\n",
    "    return uk_ru_pairs, np.array(uk_vectors), np.array(ru_vectors)"
   ]
  },
  {
   "cell_type": "code",
   "execution_count": 8,
   "metadata": {
    "id": "wkNL602WHJyO"
   },
   "outputs": [
    {
     "name": "stdout",
     "output_type": "stream",
     "text": [
      "--2021-03-29 21:01:17--  http://tiny.cc/jfgecz\n",
      "Распознаётся tiny.cc (tiny.cc)… 157.245.113.153\n",
      "Подключение к tiny.cc (tiny.cc)|157.245.113.153|:80... соединение установлено.\n",
      "HTTP-запрос отправлен. Ожидание ответа… 301 Moved Permanently\n",
      "Адрес: https://tiny.cc/jfgecz [переход]\n",
      "--2021-03-29 21:01:17--  https://tiny.cc/jfgecz\n",
      "Подключение к tiny.cc (tiny.cc)|157.245.113.153|:443... соединение установлено.\n",
      "HTTP-запрос отправлен. Ожидание ответа… 303 See Other\n",
      "Адрес: https://raw.githubusercontent.com/yandexdataschool/nlp_course/master/week01_embeddings/ukr_rus.train.txt [переход]\n",
      "--2021-03-29 21:01:17--  https://raw.githubusercontent.com/yandexdataschool/nlp_course/master/week01_embeddings/ukr_rus.train.txt\n",
      "Распознаётся raw.githubusercontent.com (raw.githubusercontent.com)… 185.199.109.133, 185.199.110.133, 185.199.111.133, ...\n",
      "Подключение к raw.githubusercontent.com (raw.githubusercontent.com)|185.199.109.133|:443... соединение установлено.\n",
      "HTTP-запрос отправлен. Ожидание ответа… 200 OK\n",
      "Длина: 59351 (58K) [text/plain]\n",
      "Сохранение в: «ukr_rus.train.txt»\n",
      "\n",
      "ukr_rus.train.txt   100%[===================>]  57,96K  --.-KB/s    за 0,04s   \n",
      "\n",
      "2021-03-29 21:01:18 (1,47 MB/s) - «ukr_rus.train.txt» сохранён [59351/59351]\n",
      "\n"
     ]
    }
   ],
   "source": [
    "!wget -O ukr_rus.train.txt http://tiny.cc/jfgecz"
   ]
  },
  {
   "cell_type": "code",
   "execution_count": 9,
   "metadata": {
    "id": "uoclU6JcHCcn"
   },
   "outputs": [
    {
     "name": "stdout",
     "output_type": "stream",
     "text": [
      "--2021-03-29 21:01:20--  http://tiny.cc/6zoeez\n",
      "Распознаётся tiny.cc (tiny.cc)… 157.245.113.153\n",
      "Подключение к tiny.cc (tiny.cc)|157.245.113.153|:80... соединение установлено.\n",
      "HTTP-запрос отправлен. Ожидание ответа… 301 Moved Permanently\n",
      "Адрес: https://tiny.cc/6zoeez [переход]\n",
      "--2021-03-29 21:01:20--  https://tiny.cc/6zoeez\n",
      "Подключение к tiny.cc (tiny.cc)|157.245.113.153|:443... соединение установлено.\n",
      "HTTP-запрос отправлен. Ожидание ответа… 303 See Other\n",
      "Адрес: https://raw.githubusercontent.com/yandexdataschool/nlp_course/master/week01_embeddings/ukr_rus.test.txt [переход]\n",
      "--2021-03-29 21:01:21--  https://raw.githubusercontent.com/yandexdataschool/nlp_course/master/week01_embeddings/ukr_rus.test.txt\n",
      "Распознаётся raw.githubusercontent.com (raw.githubusercontent.com)… 185.199.108.133, 185.199.111.133, 185.199.110.133, ...\n",
      "Подключение к raw.githubusercontent.com (raw.githubusercontent.com)|185.199.108.133|:443... соединение установлено.\n",
      "HTTP-запрос отправлен. Ожидание ответа… 200 OK\n",
      "Длина: 12188 (12K) [text/plain]\n",
      "Сохранение в: «ukr_rus.test.txt»\n",
      "\n",
      "ukr_rus.test.txt    100%[===================>]  11,90K  --.-KB/s    за 0,001s  \n",
      "\n",
      "2021-03-29 21:01:21 (8,06 MB/s) - «ukr_rus.test.txt» сохранён [12188/12188]\n",
      "\n"
     ]
    }
   ],
   "source": [
    "!wget -O ukr_rus.test.txt http://tiny.cc/6zoeez"
   ]
  },
  {
   "cell_type": "code",
   "execution_count": 10,
   "metadata": {
    "id": "05BqsdSK7ugD"
   },
   "outputs": [],
   "source": [
    "uk_ru_train, X_train, Y_train = load_word_pairs(\"ukr_rus.train.txt\")"
   ]
  },
  {
   "cell_type": "code",
   "execution_count": 11,
   "metadata": {
    "id": "zQOZw51r7ugL"
   },
   "outputs": [],
   "source": [
    "uk_ru_test, X_test, Y_test = load_word_pairs(\"ukr_rus.test.txt\")"
   ]
  },
  {
   "cell_type": "markdown",
   "metadata": {
    "id": "-ZBBNvpz7ugQ"
   },
   "source": [
    "## Embedding space mapping (0.3 pts)"
   ]
  },
  {
   "cell_type": "markdown",
   "metadata": {
    "id": "x_Dhk5gL7ugS"
   },
   "source": [
    "Let $x_i \\in \\mathrm{R}^d$ be the distributed representation of word $i$ in the source language, and $y_i \\in \\mathrm{R}^d$ is the vector representation of its translation. Our purpose is to learn such linear transform $W$ that minimizes euclidian distance between $Wx_i$ and $y_i$ for some subset of word embeddings. Thus we can formulate so-called Procrustes problem:\n",
    "\n",
    "$$W^*= \\arg\\min_W \\sum_{i=1}^n||Wx_i - y_i||_2$$\n",
    "or\n",
    "$$W^*= \\arg\\min_W ||WX - Y||_F$$\n",
    "\n",
    "where $||*||_F$ - Frobenius norm."
   ]
  },
  {
   "cell_type": "markdown",
   "metadata": {
    "id": "acOjDdtL7ugY"
   },
   "source": [
    "$W^*= \\arg\\min_W \\sum_{i=1}^n||Wx_i - y_i||_2$ looks like simple multiple linear regression (without intercept fit). So let's code."
   ]
  },
  {
   "cell_type": "code",
   "execution_count": 12,
   "metadata": {
    "id": "Lb-KN1be7uga"
   },
   "outputs": [],
   "source": [
    "from sklearn.linear_model import LinearRegression\n",
    "\n",
    "# YOUR CODE HERE\n",
    "mapping = LinearRegression().fit(X_train, Y_train)\n",
    "# -------"
   ]
  },
  {
   "cell_type": "markdown",
   "metadata": {
    "id": "X7tqJwoY7ugf"
   },
   "source": [
    "Let's take a look at neigbours of the vector of word _\"серпень\"_ (_\"август\"_ in Russian) after linear transform."
   ]
  },
  {
   "cell_type": "code",
   "execution_count": 13,
   "metadata": {
    "id": "31SrFSbn7ugi"
   },
   "outputs": [
    {
     "data": {
      "text/plain": [
       "[('апрель', 0.8531404733657837),\n",
       " ('июнь', 0.8402308225631714),\n",
       " ('март', 0.838577389717102),\n",
       " ('сентябрь', 0.8331867456436157),\n",
       " ('февраль', 0.8311493396759033),\n",
       " ('октябрь', 0.8278170824050903),\n",
       " ('ноябрь', 0.8244149684906006),\n",
       " ('июль', 0.8228995203971863),\n",
       " ('август', 0.8112362027168274),\n",
       " ('январь', 0.8022858500480652)]"
      ]
     },
     "execution_count": 13,
     "metadata": {},
     "output_type": "execute_result"
    }
   ],
   "source": [
    "august = mapping.predict(uk_emb[\"серпень\"].reshape(1, -1))\n",
    "ru_emb.most_similar(august)"
   ]
  },
  {
   "cell_type": "markdown",
   "metadata": {
    "id": "okSkjk597ugo"
   },
   "source": [
    "We can see that neighbourhood of this embedding cosists of different months, but right variant is on the ninth place."
   ]
  },
  {
   "cell_type": "markdown",
   "metadata": {
    "id": "o2uY6Y9B7ugt"
   },
   "source": [
    "As quality measure we will use precision top-1, top-5 and top-10 (for each transformed Ukrainian embedding we count how many right target pairs are found in top N nearest neighbours in Russian embedding space)."
   ]
  },
  {
   "cell_type": "code",
   "execution_count": null,
   "metadata": {},
   "outputs": [],
   "source": []
  },
  {
   "cell_type": "code",
   "execution_count": 15,
   "metadata": {},
   "outputs": [
    {
     "data": {
      "text/plain": [
       "[('август', 1.0),\n",
       " ('июль', 0.9383152723312378),\n",
       " ('сентябрь', 0.9240028858184814),\n",
       " ('июнь', 0.9222576022148132),\n",
       " ('октябрь', 0.9095539450645447)]"
      ]
     },
     "execution_count": 15,
     "metadata": {},
     "output_type": "execute_result"
    }
   ],
   "source": [
    "ru_emb.most_similar([ru_emb[\"август\"]], topn=5)"
   ]
  },
  {
   "cell_type": "code",
   "execution_count": 48,
   "metadata": {},
   "outputs": [
    {
     "data": {
      "text/plain": [
       "(1, 300)"
      ]
     },
     "execution_count": 48,
     "metadata": {},
     "output_type": "execute_result"
    }
   ],
   "source": [
    "a =  mapping.predict(uk_emb[\"або\"].reshape(1, -1))\n",
    "b = Y_test[0].reshape(1, -1)\n",
    "ru_emb.most_similar(b, topn=1)[0][0]"
   ]
  },
  {
   "cell_type": "code",
   "execution_count": 70,
   "metadata": {
    "id": "zptuho8LAfIE"
   },
   "outputs": [],
   "source": [
    "def precision(pairs, mapped_vectors, topn=1):\n",
    "    \"\"\"\n",
    "    :args:\n",
    "        pairs = list of right word pairs [(uk_word_0, ru_word_0), ...]\n",
    "        mapped_vectors = list of embeddings after mapping from source embedding space to destination embedding space\n",
    "        topn = the number of nearest neighbours in destination embedding space to choose from\n",
    "    :returns:\n",
    "        precision_val, float number, total number of words for those we can find right translation at top K.\n",
    "    \"\"\"\n",
    "    assert len(pairs) == len(mapped_vectors)\n",
    "    num_matches = 0\n",
    "    for i, (_, ru) in enumerate(pairs):\n",
    "        b = mapped_vectors[i].reshape(1, -1)\n",
    "        a = dict(ru_emb.most_similar(b, topn=topn))\n",
    "        if ru in a:\n",
    "            num_matches += 1\n",
    "    precision_val = num_matches / len(pairs)\n",
    "    return precision_val"
   ]
  },
  {
   "cell_type": "code",
   "execution_count": 71,
   "metadata": {
    "id": "duhj9hpv7ugy"
   },
   "outputs": [],
   "source": [
    "assert precision([(\"серпень\", \"август\")], august, topn=5) == 0.0\n",
    "assert precision([(\"серпень\", \"август\")], august, topn=9) == 1.0\n",
    "assert precision([(\"серпень\", \"август\")], august, topn=10) == 1.0"
   ]
  },
  {
   "cell_type": "code",
   "execution_count": 72,
   "metadata": {
    "id": "0-iyd5gP7ug5"
   },
   "outputs": [],
   "source": [
    "%%time\n",
    "assert precision(uk_ru_test, X_test) == 0.0\n",
    "assert precision(uk_ru_test, Y_test) == 1.0"
   ]
  },
  {
   "cell_type": "code",
   "execution_count": 73,
   "metadata": {
    "id": "U-ssEJ3x7uhA"
   },
   "outputs": [],
   "source": [
    "precision_top1 = precision(uk_ru_test, mapping.predict(X_test), 1)\n",
    "precision_top5 = precision(uk_ru_test, mapping.predict(X_test), 5)"
   ]
  },
  {
   "cell_type": "code",
   "execution_count": 74,
   "metadata": {
    "id": "7K-hy7a6Ksn2"
   },
   "outputs": [
    {
     "name": "stdout",
     "output_type": "stream",
     "text": [
      "0.6259541984732825\n",
      "0.7913486005089059\n"
     ]
    }
   ],
   "source": [
    "print(precision_top1)\n",
    "print(precision_top5)"
   ]
  },
  {
   "cell_type": "markdown",
   "metadata": {
    "id": "hf6Ou8bx7uhH"
   },
   "source": [
    "## Making it better (orthogonal Procrustean problem) (0.3 pts)"
   ]
  },
  {
   "cell_type": "markdown",
   "metadata": {
    "id": "4oLs-drN7uhK"
   },
   "source": [
    "It can be shown (see original paper) that a self-consistent linear mapping between semantic spaces should be orthogonal. \n",
    "We can restrict transform $W$ to be orthogonal. Then we will solve next problem:\n",
    "\n",
    "$$W^*= \\arg\\min_W ||WX - Y||_F \\text{, where: } W^TW = I$$\n",
    "\n",
    "$$I \\text{- identity matrix}$$\n",
    "\n",
    "Instead of making yet another regression problem we can find optimal orthogonal transformation using singular value decomposition. It turns out that optimal transformation $W^*$ can be expressed via SVD components:\n",
    "$$X^TY=U\\Sigma V^T\\text{, singular value decompostion}$$\n",
    "$$W^*=UV^T$$"
   ]
  },
  {
   "cell_type": "code",
   "execution_count": 82,
   "metadata": {
    "id": "_KSaRJFGMFiJ"
   },
   "outputs": [],
   "source": [
    "import numpy as np"
   ]
  },
  {
   "cell_type": "code",
   "execution_count": 92,
   "metadata": {
    "id": "DdFQ7qti7uhL"
   },
   "outputs": [],
   "source": [
    "def learn_transform(X_train, Y_train):\n",
    "    \"\"\" \n",
    "    :returns: W* : float matrix[emb_dim x emb_dim] as defined in formulae above\n",
    "    \"\"\"\n",
    "    # YOUR CODE GOES HERE\n",
    "    a = np.dot(X_train.T, Y_train)\n",
    "    u, s, vh = np.linalg.svd(a, full_matrices=True)\n",
    "    # compute orthogonal embedding space mapping\n",
    "    mapping = np.dot(u, vh)\n",
    "\n",
    "    return mapping"
   ]
  },
  {
   "cell_type": "code",
   "execution_count": 93,
   "metadata": {
    "id": "7X7QfYDd7uhQ"
   },
   "outputs": [],
   "source": [
    "W = learn_transform(X_train, Y_train)"
   ]
  },
  {
   "cell_type": "code",
   "execution_count": 94,
   "metadata": {
    "id": "OVOFYYa37uhX"
   },
   "outputs": [
    {
     "data": {
      "text/plain": [
       "[('апрель', 0.8245131373405457),\n",
       " ('июнь', 0.8056629300117493),\n",
       " ('сентябрь', 0.8055760264396667),\n",
       " ('март', 0.8032935261726379),\n",
       " ('октябрь', 0.7987099885940552),\n",
       " ('июль', 0.7946795225143433),\n",
       " ('ноябрь', 0.7939635515213013),\n",
       " ('август', 0.7938187122344971),\n",
       " ('февраль', 0.7923860549926758),\n",
       " ('декабрь', 0.7715373039245605)]"
      ]
     },
     "execution_count": 94,
     "metadata": {},
     "output_type": "execute_result"
    }
   ],
   "source": [
    "ru_emb.most_similar([np.matmul(uk_emb[\"серпень\"], W)])"
   ]
  },
  {
   "cell_type": "code",
   "execution_count": 96,
   "metadata": {
    "id": "r297sYP37uhb"
   },
   "outputs": [
    {
     "name": "stdout",
     "output_type": "stream",
     "text": [
      "0.6437659033078881\n",
      "0.7989821882951654\n",
      "CPU times: user 2min 48s, sys: 71.8 ms, total: 2min 48s\n",
      "Wall time: 2min 47s\n"
     ]
    }
   ],
   "source": [
    "%%time\n",
    "print(precision(uk_ru_test, np.matmul(X_test, W)))\n",
    "print(precision(uk_ru_test, np.matmul(X_test, W), 5))"
   ]
  },
  {
   "cell_type": "markdown",
   "metadata": {
    "id": "hvUZ72U5AfJg"
   },
   "source": [
    "## Unsupervised embedding-based MT (0.4 pts)"
   ]
  },
  {
   "cell_type": "markdown",
   "metadata": {
    "id": "LLyuVfHBLrJn"
   },
   "source": [
    "Now, let's build our word embeddings-based translator!"
   ]
  },
  {
   "cell_type": "markdown",
   "metadata": {
    "id": "tPAURW1CMuP7"
   },
   "source": [
    "Firstly, download OPUS Tatoeba corpus."
   ]
  },
  {
   "cell_type": "code",
   "execution_count": 97,
   "metadata": {
    "id": "F80kUKzQMsDu"
   },
   "outputs": [
    {
     "name": "stdout",
     "output_type": "stream",
     "text": [
      "--2021-03-29 22:18:35--  https://object.pouta.csc.fi/OPUS-Tatoeba/v20190709/mono/uk.txt.gz\n",
      "Распознаётся object.pouta.csc.fi (object.pouta.csc.fi)… 86.50.254.19, 86.50.254.18\n",
      "Подключение к object.pouta.csc.fi (object.pouta.csc.fi)|86.50.254.19|:443... соединение установлено.\n",
      "HTTP-запрос отправлен. Ожидание ответа… 200 OK\n",
      "Длина: 1819128 (1,7M) [application/gzip]\n",
      "Сохранение в: «uk.txt.gz»\n",
      "\n",
      "uk.txt.gz           100%[===================>]   1,73M  7,49MB/s    за 0,2s    \n",
      "\n",
      "2021-03-29 22:18:36 (7,49 MB/s) - «uk.txt.gz» сохранён [1819128/1819128]\n",
      "\n"
     ]
    }
   ],
   "source": [
    "!wget https://object.pouta.csc.fi/OPUS-Tatoeba/v20190709/mono/uk.txt.gz"
   ]
  },
  {
   "cell_type": "code",
   "execution_count": 98,
   "metadata": {
    "id": "0CGFZoxCUVf1"
   },
   "outputs": [],
   "source": [
    "!gzip -d ./uk.txt.gz"
   ]
  },
  {
   "cell_type": "code",
   "execution_count": 99,
   "metadata": {
    "id": "2MV3VvoVUX5U"
   },
   "outputs": [],
   "source": [
    "with open('./uk.txt', 'r') as f:\n",
    "    uk_corpus = f.readlines()"
   ]
  },
  {
   "cell_type": "code",
   "execution_count": 100,
   "metadata": {
    "id": "tU7nPVf0UhbI"
   },
   "outputs": [],
   "source": [
    "# To save your time and CPU, feel free to use first 1000 sentences of the corpus\n",
    "uk_corpus = uk_corpus[:1000]"
   ]
  },
  {
   "cell_type": "code",
   "execution_count": 102,
   "metadata": {
    "id": "FLN8dBOXAfJ1"
   },
   "outputs": [],
   "source": [
    "# Any necessary preprocessing if needed\n",
    "from nltk.tokenize import TweetTokenizer\n",
    "tokenizer = TweetTokenizer()\n",
    "preprocess = lambda text: ' '.join(tokenizer.tokenize(text.lower()))"
   ]
  },
  {
   "cell_type": "code",
   "execution_count": 103,
   "metadata": {},
   "outputs": [],
   "source": [
    "uk_corpus = [preprocess(row) for row in uk_corpus]"
   ]
  },
  {
   "cell_type": "code",
   "execution_count": 162,
   "metadata": {},
   "outputs": [
    {
     "name": "stderr",
     "output_type": "stream",
     "text": [
      "[nltk_data] Downloading package wordnet to /home/dm/nltk_data...\n",
      "[nltk_data]   Unzipping corpora/wordnet.zip.\n"
     ]
    },
    {
     "data": {
      "text/plain": [
       "True"
      ]
     },
     "execution_count": 162,
     "metadata": {},
     "output_type": "execute_result"
    }
   ],
   "source": [
    "import nltk\n",
    "nltk.download('wordnet')"
   ]
  },
  {
   "cell_type": "code",
   "execution_count": 173,
   "metadata": {},
   "outputs": [
    {
     "data": {
      "text/plain": [
       "'яблоки'"
      ]
     },
     "execution_count": 173,
     "metadata": {},
     "output_type": "execute_result"
    }
   ],
   "source": [
    "s = 'яблоко'\n",
    "s[:-1] + 'и'"
   ]
  },
  {
   "cell_type": "code",
   "execution_count": 213,
   "metadata": {
    "id": "FGksC7l_NMi9"
   },
   "outputs": [],
   "source": [
    "def translate(sentence):\n",
    "    \"\"\"\n",
    "    :args:\n",
    "        sentence - sentence in Ukrainian (str)\n",
    "    :returns:\n",
    "        translation - sentence in Russian (str)\n",
    "\n",
    "    * find ukrainian embedding for each word in sentence\n",
    "    * transform ukrainian embedding vector\n",
    "    * find nearest russian word and replace\n",
    "    \"\"\"\n",
    "    translated = []\n",
    "    for word in sentence.split():\n",
    "        try:\n",
    "            w, _ = ru_emb.most_similar([np.matmul(uk_emb[word], W)], topn=1)[0]\n",
    "        except:\n",
    "            arr = ['я', 'ї']\n",
    "            for elem in arr:\n",
    "                try:\n",
    "                    word_ = word[:-1] + elem\n",
    "                    w, _ = ru_emb.most_similar([np.matmul(uk_emb[word_], W)], topn=1)[0]\n",
    "                except:\n",
    "                    w = 'unknown'\n",
    "\n",
    "        translated.append(w)\n",
    "\n",
    "    return \" \".join(translated)"
   ]
  },
  {
   "cell_type": "code",
   "execution_count": 214,
   "metadata": {
    "id": "4hbbMy-tNxlf"
   },
   "outputs": [],
   "source": [
    "assert translate(\".\") == \".\"\n",
    "assert translate(\"1 , 3\") == \"1 , 3\"\n",
    "assert translate(\"кіт зловив мишу\") == \"кот поймал мышку\""
   ]
  },
  {
   "cell_type": "markdown",
   "metadata": {
    "id": "ia6I2ce7O_HI"
   },
   "source": [
    "Now you can play with your model and try to get as accurate translations as possible. **Note**: one big issue is out-of-vocabulary words. Try to think of various ways of handling it (you can start with translating each of them to a special **UNK** token and then move to more sophisticated approaches). Good luck!"
   ]
  },
  {
   "cell_type": "code",
   "execution_count": 215,
   "metadata": {
    "id": "ap1W7ZCeOAVU"
   },
   "outputs": [
    {
     "name": "stdout",
     "output_type": "stream",
     "text": [
      "ukr: я вже закінчу коледж , коли ви вернетеся з америки .\n",
      "rus: мной уже закончу колледж , когда мы прибежишь со америки .\n",
      "------------------------------------------------------------------------------\n",
      "ukr: місто бомбардували ворожі літаки .\n",
      "rus: город бомбили враждебные самолеты .\n",
      "------------------------------------------------------------------------------\n",
      "ukr: можливо , я антисоціальний , але це не означає , що я не спілкуюся з людьми .\n",
      "rus: возможно , мной антисоциальный , конечно это не означает , что мной не общаюсь со людьми .\n",
      "------------------------------------------------------------------------------\n",
      "ukr: цього ранку випала роса .\n",
      "rus: этого утра выпала роса .\n",
      "------------------------------------------------------------------------------\n",
      "ukr: біда не приходить одна .\n",
      "rus: беда не приходит одна .\n",
      "------------------------------------------------------------------------------\n",
      "ukr: подивися на той дим .\n",
      "rus: посмотри по тот дым .\n",
      "------------------------------------------------------------------------------\n",
      "ukr: я замовив два гамбургера .\n",
      "rus: мной заказал два гамбургера .\n",
      "------------------------------------------------------------------------------\n",
      "ukr: я не хотів нікого образити .\n",
      "rus: мной не хотел никого обидеть .\n",
      "------------------------------------------------------------------------------\n",
      "ukr: гора вкрита снігом .\n",
      "rus: гора покрыта снегом .\n",
      "------------------------------------------------------------------------------\n",
      "ukr: на фотографії в дівчини корона не з золота , а з квітів .\n",
      "rus: по фотографии во девушки корона не со золота , а со цветов .\n",
      "------------------------------------------------------------------------------\n",
      "ukr: у мене є мрія .\n",
      "rus: во меня То мечта .\n",
      "------------------------------------------------------------------------------\n",
      "ukr: я приїхав у японію з китаю .\n",
      "rus: мной приехал во японии со китая .\n",
      "------------------------------------------------------------------------------\n",
      "ukr: на півночі знаходиться шотландія ; на півдні — англія ; на заході — уельс ; і ще далі на заході — північна ірландія .\n",
      "rus: по север находится шотландии ; по юге — англия ; по востоке — англо-саксонский ; и ещe дальше по востоке — северная шотландия .\n",
      "------------------------------------------------------------------------------\n",
      "ukr: його рідна країна — німеччина .\n",
      "rus: его родная страна — германия .\n",
      "------------------------------------------------------------------------------\n",
      "ukr: берн — столиця швейцарії .\n",
      "rus: Уотертаун — столица ирландии .\n",
      "------------------------------------------------------------------------------\n",
      "ukr: він чекав на нього до десятої години .\n",
      "rus: он ждал по него к десятой часа .\n",
      "------------------------------------------------------------------------------\n",
      "ukr: ти можеш взяти цю книгу даром .\n",
      "rus: ты можешь взять ту книгу даром .\n",
      "------------------------------------------------------------------------------\n",
      "ukr: цей роман написав відомий американський письменник .\n",
      "rus: этот роман сочинил известный американский писатель .\n",
      "------------------------------------------------------------------------------\n",
      "ukr: забронюйте , будьте ласкаві , кімнату біля міжнародного аеропорту в торонто .\n",
      "rus: забронировать , будте ласковые , комнату возле международного аэропорта во unknown .\n",
      "------------------------------------------------------------------------------\n",
      "ukr: він знає , що ти його кохаєш ?\n",
      "rus: он знает , что ты его влюбится ?\n",
      "------------------------------------------------------------------------------\n",
      "ukr: я знаю , що ти багатий .\n",
      "rus: мной знаю , что ты богатый .\n",
      "------------------------------------------------------------------------------\n",
      "ukr: ті , хто все забувають , щасливі .\n",
      "rus: те , кто всё забывают , счастливые .\n",
      "------------------------------------------------------------------------------\n",
      "ukr: в цій річці небезпечно плавати .\n",
      "rus: во этой реке опасно плавать .\n",
      "------------------------------------------------------------------------------\n",
      "ukr: прийшов , побачив , переміг .\n",
      "rus: пришел , увидел , победил .\n",
      "------------------------------------------------------------------------------\n",
      "ukr: я ходжу до школи пішки .\n",
      "rus: мной хожу к школы пешком .\n",
      "------------------------------------------------------------------------------\n",
      "ukr: не твоя справа !\n",
      "rus: не моя дело !\n",
      "------------------------------------------------------------------------------\n",
      "ukr: не забудь квиток .\n",
      "rus: не забудь билет .\n",
      "------------------------------------------------------------------------------\n",
      "ukr: хто він ?\n",
      "rus: кто он ?\n",
      "------------------------------------------------------------------------------\n",
      "ukr: ви будете чай чи каву ?\n",
      "rus: мы будете чай ли кофе ?\n",
      "------------------------------------------------------------------------------\n",
      "ukr: він не піде на пікнік , як і я .\n",
      "rus: он не пойдет по пикник , как и мной .\n",
      "------------------------------------------------------------------------------\n",
      "ukr: коли ви народилися ?\n",
      "rus: когда мы родились ?\n",
      "------------------------------------------------------------------------------\n",
      "ukr: це моя улюблена пісня .\n",
      "rus: это моя любимая песня .\n",
      "------------------------------------------------------------------------------\n",
      "ukr: ми майже сім ’ я .\n",
      "rus: мы почти семь со мной .\n",
      "------------------------------------------------------------------------------\n",
      "ukr: який гарний сьогодні місяць !\n",
      "rus: который красивый сегодня месяц !\n",
      "------------------------------------------------------------------------------\n",
      "ukr: я проти будь-яких війн .\n",
      "rus: мной против каких-либо войны .\n",
      "------------------------------------------------------------------------------\n",
      "ukr: поверхня повітряної кулі — неевклідовий простір , тому для неї не виконуються правила евклідової геометрії .\n",
      "rus: поверхность воздушной шары — unknown пространство , потому для неё не выполняются правила симметрической геометрии .\n",
      "------------------------------------------------------------------------------\n",
      "ukr: кажуть , що американці вважають кількість грошей , яку заробляє людина , мірилом його уміння .\n",
      "rus: дескать , что американцы считают количество денег , какую зарабатывает женщина , мерилом его умение .\n",
      "------------------------------------------------------------------------------\n",
      "ukr: можна я примірю це плаття ?\n",
      "rus: можно мной unknown это платье ?\n",
      "------------------------------------------------------------------------------\n",
      "ukr: якщо буде гарна погода , ми доберемося туди завтра .\n",
      "rus: если будет красивая погода , мы доберёмся туда завтра .\n",
      "------------------------------------------------------------------------------\n",
      "ukr: це був злий заєць .\n",
      "rus: это был злой заяц .\n",
      "------------------------------------------------------------------------------\n",
      "ukr: один , два , три , чотири , п'ять , шість , сім , вісім , дев'ять , десять .\n",
      "rus: один , два , три , четыре , unknown , восемь , семь , восемь , unknown , десять .\n",
      "------------------------------------------------------------------------------\n",
      "ukr: хто в любові не знається , той горя не знає .\n",
      "rus: кто во любви не знает , тот горя не знает .\n",
      "------------------------------------------------------------------------------\n",
      "ukr: його мати хвилюється за нього .\n",
      "rus: его иметь волнуется за него .\n",
      "------------------------------------------------------------------------------\n",
      "ukr: я поважаю тих , хто старається з усіх сил .\n",
      "rus: мной уважаю тех , кто старается со всех сил .\n",
      "------------------------------------------------------------------------------\n",
      "ukr: їхня дружба переросла у глибоке кохання .\n",
      "rus: эта дружба переросла во глубокое любовь .\n",
      "------------------------------------------------------------------------------\n",
      "ukr: кейт п ’ є багато молока кожен день .\n",
      "rus: джастин аш со То много молока каждый день .\n",
      "------------------------------------------------------------------------------\n",
      "ukr: він злодій .\n",
      "rus: он вор .\n",
      "------------------------------------------------------------------------------\n",
      "ukr: шумового забруднення можна було б позбігнути тільки якщо б люди були більш чутливими до навколишнього середовища .\n",
      "rus: шумового загрязнение можно было бы unknown только если бы люди были более чувствительны к окружающей среды .\n",
      "------------------------------------------------------------------------------\n",
      "ukr: чай з лимоном , будьте ласкаві .\n"
     ]
    },
    {
     "name": "stdout",
     "output_type": "stream",
     "text": [
      "rus: чай со лимоном , будте ласковые .\n",
      "------------------------------------------------------------------------------\n",
      "ukr: не плутай бажання з коханням .\n",
      "rus: не путать желание со влюбленностью .\n",
      "------------------------------------------------------------------------------\n",
      "ukr: я би з задоволенням написав сотні речень в tatoeb ’ і , але в мене є справи .\n",
      "rus: мной бы со удовольствием сочинил сотни сложноподчинённые во unknown со и , конечно во меня То дела .\n",
      "------------------------------------------------------------------------------\n",
      "ukr: дайте мені філіжанку кави .\n",
      "rus: дайте мне чашечку кофе .\n",
      "------------------------------------------------------------------------------\n",
      "ukr: але ж ти ніколи мені про це не розповідала !\n",
      "rus: конечно же ты никогда мне о это не рассказывала !\n",
      "------------------------------------------------------------------------------\n",
      "ukr: у тебе будуть проблеми , якщо твої батьки довідаються .\n",
      "rus: во тебя будут проблемы , если твои родители узнают .\n",
      "------------------------------------------------------------------------------\n",
      "ukr: запах троянд наповнив кімнату .\n",
      "rus: запах роз наполнил комнату .\n",
      "------------------------------------------------------------------------------\n",
      "ukr: як у тебе справи ?\n",
      "rus: как во тебя дела ?\n",
      "------------------------------------------------------------------------------\n",
      "ukr: це мої штани .\n",
      "rus: это мои штаны .\n",
      "------------------------------------------------------------------------------\n",
      "ukr: ні , дякую .\n",
      "rus: ни , спасибо .\n",
      "------------------------------------------------------------------------------\n",
      "ukr: я не розумію , чому німеччина перемогла на євробаченні .\n",
      "rus: мной не понимаю , почему германия победила по Евровиденье .\n",
      "------------------------------------------------------------------------------\n",
      "ukr: добрий вечір .\n",
      "rus: хороший вечер .\n",
      "------------------------------------------------------------------------------\n",
      "ukr: з юбілеєм олексія дударева привітав президент білорусі олександр лукашенко .\n",
      "rus: со unknown unknown unknown поприветствовал президент беларуссии борис путина. .\n",
      "------------------------------------------------------------------------------\n",
      "ukr: чумацький шлях — широкий пояс із далеких зірок , кожна зірка — сонце , таке як наше .\n",
      "rus: привольный путь — широкий пояс со далеких звёзд , каждая звезда — солнце , такое как наше .\n",
      "------------------------------------------------------------------------------\n",
      "ukr: незвичайно бачити рок-зірок з краваткою !\n",
      "rus: необычайно видеть рок-звёзд со галстук !\n",
      "------------------------------------------------------------------------------\n",
      "ukr: усе печиво у формі зірок .\n",
      "rus: всё печенье во форме звёзд .\n",
      "------------------------------------------------------------------------------\n",
      "ukr: що мені вдягнути — штани чи спідницю ?\n",
      "rus: что мне одеть — штаны ли юбку ?\n",
      "------------------------------------------------------------------------------\n",
      "ukr: гартман вітвер — відомий львівський скульптор .\n",
      "rus: unknown unknown — известный московский скульптор .\n",
      "------------------------------------------------------------------------------\n",
      "ukr: то був злий кролик .\n",
      "rus: то был злой кролик .\n",
      "------------------------------------------------------------------------------\n",
      "ukr: можеш взяти будь-який , що тобі до сподоби .\n",
      "rus: можешь взять любой , что тебе к отвратиться .\n",
      "------------------------------------------------------------------------------\n",
      "ukr: звичайно я піду .\n",
      "rus: конечно мной пойду .\n",
      "------------------------------------------------------------------------------\n",
      "ukr: шовкопряди прядуть кокони .\n",
      "rus: шелковичные прядут коконы .\n",
      "------------------------------------------------------------------------------\n",
      "ukr: що б ти зробила , якщо б у тебе було , скажім , десять тисяч доларів ?\n",
      "rus: что бы ты сделала , если бы во тебя было , замечу , десять тысяч долларов ?\n",
      "------------------------------------------------------------------------------\n",
      "ukr: він думає , що він хтось , а насправді він ніхто .\n",
      "rus: он думает , что он кто-то , а действительно он никто .\n",
      "------------------------------------------------------------------------------\n",
      "ukr: вона дуже пишається своєю колекцією марок .\n",
      "rus: она очень гордится своею коллекцией марок .\n",
      "------------------------------------------------------------------------------\n",
      "ukr: він дуже простий ...\n",
      "rus: он очень простой ...\n",
      "------------------------------------------------------------------------------\n",
      "ukr: яка ти добра !\n",
      "rus: она ты добра !\n",
      "------------------------------------------------------------------------------\n",
      "ukr: як я за тобою скучив !\n",
      "rus: как мной за тобой соскучился !\n",
      "------------------------------------------------------------------------------\n",
      "ukr: це все , що я знаю .\n",
      "rus: это всё , что мной знаю .\n",
      "------------------------------------------------------------------------------\n",
      "ukr: ти ведеш щоденник ?\n",
      "rus: ты ведёшь дневник ?\n",
      "------------------------------------------------------------------------------\n",
      "ukr: тобі вирішувати .\n",
      "rus: тебе решать .\n",
      "------------------------------------------------------------------------------\n",
      "ukr: це пошта , а то — банк .\n",
      "rus: это почта , а то — банк .\n",
      "------------------------------------------------------------------------------\n",
      "ukr: це все , що я хочу зробити .\n",
      "rus: это всё , что мной хочу сделать .\n",
      "------------------------------------------------------------------------------\n",
      "ukr: я вперше дивлюся такий страшний фільм .\n",
      "rus: мной впервые смотрю такой страшный фильм .\n",
      "------------------------------------------------------------------------------\n",
      "ukr: ця пісня нагадує мені про дім .\n",
      "rus: та песня напоминает мне о дом .\n",
      "------------------------------------------------------------------------------\n",
      "ukr: хіросі тут ?\n",
      "rus: unknown здесь ?\n",
      "------------------------------------------------------------------------------\n",
      "ukr: мене звуть джек .\n",
      "rus: меня зовут джэк .\n",
      "------------------------------------------------------------------------------\n",
      "ukr: як людина живе , так вона і помре .\n",
      "rus: как женщина живет , так она и умрет .\n",
      "------------------------------------------------------------------------------\n",
      "ukr: я тут уже дві години .\n",
      "rus: мной здесь уже две часа .\n",
      "------------------------------------------------------------------------------\n",
      "ukr: мені треба вибачитись перед ен .\n",
      "rus: мне надо извиниться перед ен .\n",
      "------------------------------------------------------------------------------\n",
      "ukr: сьогодні я бачив шпака .\n",
      "rus: сегодня мной видел скворца .\n",
      "------------------------------------------------------------------------------\n",
      "ukr: « скільки коштує ця носова хусточка ? » — « дев'яносто п'ять центів » .\n",
      "rus: « сколько стоить та носовая косыночка ? » — « unknown unknown центов » .\n",
      "------------------------------------------------------------------------------\n",
      "ukr: ранені ведмеді , як правило , дуже небезпечні .\n",
      "rus: раненные медведи , как правило , очень опасные .\n",
      "------------------------------------------------------------------------------\n",
      "ukr: він швидко втомлюється .\n",
      "rus: он быстро устает .\n",
      "------------------------------------------------------------------------------\n",
      "ukr: усі готові .\n",
      "rus: все готовы .\n",
      "------------------------------------------------------------------------------\n",
      "ukr: він скучає по своїй сім'ї .\n",
      "rus: он скучает по своей unknown .\n",
      "------------------------------------------------------------------------------\n",
      "ukr: « дякую » , — « на здоров'я » .\n",
      "rus: « спасибо » , — « по unknown » .\n",
      "------------------------------------------------------------------------------\n",
      "ukr: я ще не знаю своєї адреси , я певний час буду жити в подруги .\n",
      "rus: мной ещe не знаю своего адреса , мной определенный момент буду жить во подруги .\n",
      "------------------------------------------------------------------------------\n",
      "ukr: амазонка — друга по довжині ріка в світі після ніла .\n",
      "rus: амазонка — вторая по длине река во мире после трепещущая .\n",
      "------------------------------------------------------------------------------\n",
      "ukr: а якщо побачиш тома , передай йому від мене вітання .\n",
      "rus: а если увидишь тома , передай ему от меня поздравления .\n",
      "------------------------------------------------------------------------------\n",
      "ukr: закрий за собою двері .\n",
      "rus: закрой за собой дверь .\n",
      "------------------------------------------------------------------------------\n",
      "ukr: тримай при собі словник .\n"
     ]
    },
    {
     "name": "stdout",
     "output_type": "stream",
     "text": [
      "rus: держи при себе словарь .\n",
      "------------------------------------------------------------------------------\n"
     ]
    }
   ],
   "source": [
    "for sent in uk_corpus[::10]:\n",
    "    print(f\"ukr: {sent}\")\n",
    "    print(f\"rus: {translate(sent)}\")\n",
    "    print('------------------------------------------------------------------------------')"
   ]
  }
 ],
 "metadata": {
  "anaconda-cloud": {},
  "colab": {
   "collapsed_sections": [],
   "machine_shape": "hm",
   "name": "homework.ipynb",
   "provenance": []
  },
  "kernelspec": {
   "display_name": "Python 3",
   "language": "python",
   "name": "python3"
  },
  "language_info": {
   "codemirror_mode": {
    "name": "ipython",
    "version": 3
   },
   "file_extension": ".py",
   "mimetype": "text/x-python",
   "name": "python",
   "nbconvert_exporter": "python",
   "pygments_lexer": "ipython3",
   "version": "3.8.3"
  }
 },
 "nbformat": 4,
 "nbformat_minor": 1
}
